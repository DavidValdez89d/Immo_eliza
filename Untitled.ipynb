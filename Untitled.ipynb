{
 "cells": [
  {
   "cell_type": "markdown",
   "id": "ce3f3896-6291-4e9c-abd1-4aa9834b2090",
   "metadata": {
    "tags": []
   },
   "source": [
    "# **Model**"
   ]
  },
  {
   "cell_type": "markdown",
   "id": "5d02f86d-3112-44e1-9433-82ce04d0df96",
   "metadata": {
    "tags": []
   },
   "source": [
    "#### **Imports**"
   ]
  },
  {
   "cell_type": "code",
   "execution_count": 1,
   "id": "3749d6fa-1db3-4f26-895b-e0edb90020a8",
   "metadata": {},
   "outputs": [],
   "source": [
    "import pandas as pd\n",
    "import numpy as np\n",
    "import statistics\n",
    "\n",
    "import seaborn as sns\n",
    "from matplotlib import pyplot as plt\n",
    "\n",
    "from scipy import stats\n",
    "\n",
    "import operator\n",
    "\n",
    "from sklearn.model_selection import train_test_split\n",
    "from sklearn.linear_model import LinearRegression\n",
    "from sklearn.metrics import mean_squared_error\n",
    "from sklearn.metrics import r2_score\n",
    "from sklearn.preprocessing import PolynomialFeatures\n",
    "from sklearn.preprocessing import StandardScaler\n",
    "from sklearn.preprocessing import OneHotEncoder"
   ]
  },
  {
   "cell_type": "code",
   "execution_count": 2,
   "id": "560132d2-8b57-4586-bd0d-725043e7d58f",
   "metadata": {},
   "outputs": [],
   "source": [
    "df = pd.read_csv('model/Property_structured_data.csv')"
   ]
  },
  {
   "cell_type": "code",
   "execution_count": 3,
   "id": "7aee82fb-b83e-4cb6-aec7-51611a8ab95c",
   "metadata": {},
   "outputs": [],
   "source": [
    "df_shape_initial = df.shape"
   ]
  },
  {
   "cell_type": "markdown",
   "id": "6076c16a-3efa-4c19-a697-bfc4b27c1747",
   "metadata": {
    "tags": []
   },
   "source": [
    "#### **Clean data**"
   ]
  },
  {
   "cell_type": "code",
   "execution_count": 4,
   "id": "5def2cb6-f240-4687-af06-3c6f0e96b76b",
   "metadata": {},
   "outputs": [],
   "source": [
    "z_scores_price = stats.zscore(df['price'])\n",
    "abs_z_scores_price = np.abs(z_scores_price) \n",
    "filtered_entries_price = (abs_z_scores_price < 1)\n",
    "df = df[filtered_entries_price]\n",
    "#Price (float)\n",
    "df= df.loc[df['price'] != -1]\n",
    "#Surface (float)\n",
    "df = df.loc[df['surface'] <= 800]\n",
    "df = df.loc[df['surface'] >= 35]\n",
    "df = df.loc[df['surface'] != -1]\n",
    "#Sub type of property (str)\n",
    "df= df.loc[df['subtype_of_property'] != 'APARTMENT_BLOCK']\n",
    "df= df.loc[df['subtype_of_property'] != 'MIXED_USE_BUILDING']\n",
    "others = [\"CHALET\", \"MANOR_HOUSE\", \"OTHER_PROPERTY\", \"CASTLE\", \"PAVILION\"]\n",
    "df.loc[df[\"subtype_of_property\"].isin(others), \"type_of_property\"] = \"OTHER\"\n",
    "#Number of bedrooms (int)\n",
    "df = df.loc[df['number_of_bedrooms'] <20]\n",
    "df['type_of_property'] = np.where((df['number_of_bedrooms'] > 20), \"OTHER\", df['type_of_property'])\n",
    "df['number_of_bedrooms'] = df['number_of_bedrooms'].replace(-1,0)\n",
    "#Zip Code (category)\n",
    "df['zip_code_xx'] = df['postal_code'].apply(lambda x : 'be_zip_'+str(x)[:3])\n",
    "#Land surface (float)\n",
    "df['land_surface'] = [land_surface if land_surface != -1 else garden_surface if garden_surface > 0 else land_surface for garden_surface,land_surface in zip(df['garden_surface'],df['land_surface'])]\n",
    "df['land_surface'] = df['land_surface'].replace(-1,0)\n",
    "#Garden (0,1)\n",
    "df['garden'] = df['garden'].replace(-1,0)\n",
    "#Garden surface (float)\n",
    "df['garden_surface'] = df['garden_surface'].replace(-1,0)\n",
    "df['garden_surface'] = df['garden_surface'].replace(1,0)\n",
    "df.loc[(df[\"garden_surface\"] > 2000) & (df['type_of_property'] == 'APARTMENT'),'type_of_property'] = \"OTHER\"\n",
    "#Fully equiped kitchen (int) change later, calculate each value y/n\n",
    "df[\"fully_equipped_kitchen\"] = df[\"fully_equipped_kitchen\"].map({\"-1.0\": 0.5,\n",
    "                                                                 \"1.0\": 1,\n",
    "                                                                 \"-1\": 0.5, \n",
    "                                                                 \"1\": 1, \n",
    "                                                                 \"INSTALLED\": 0.75, \n",
    "                                                                 \"SEMI_EQUIPPED\": 0.60, \n",
    "                                                                 \"NOT_INSTALLED\": 0.57, \n",
    "                                                                 \"USA_INSTALLED\": 0.85, \n",
    "                                                                 \"USA_SEMI_EQUIPPED\": 0.80, \n",
    "                                                                 \"USA_UNINSTALLED\": 0.75})\n",
    "#Swiming pool (0,1)\n",
    "df['swimming_pool'] = df['swimming_pool'].replace(-1,0)\n",
    "#Furnished (0,1)\n",
    "df['furnished'] = df['furnished'].replace(-1,0)\n",
    "#Open fire (0,1)\n",
    "df['open_fire'] = df['open_fire'].replace(-1,0)\n",
    "#Terrace (0,1)\n",
    "df['terrace'] = df['terrace'].replace(-1,0)\n",
    "#Terrace surface (float)\n",
    "df = df.loc[df['terrace_surface'] < 500]\n",
    "df['terrace_surface'] = df['terrace_surface'].replace(-1,0)\n",
    "#Facades (int)\n",
    "df = df.loc[df[\"number_of_facades\"] < 9]\n",
    "df[\"number_of_facades\"] = np.where((df[\"number_of_facades\"] == -1) & (df[\"type_of_property\"] == \"APARTMENT\"), 1, df[\"number_of_facades\"])\n",
    "df[\"number_of_facades\"] = np.where((df[\"number_of_facades\"] == -1) & (df[\"type_of_property\"] == \"HOUSE\"), 2, df[\"number_of_facades\"])\n",
    "df = df.loc[df[\"number_of_facades\"] != -1]\n",
    "#State of the building (int)\n",
    "df[\"state_of_the_building\"] = df[\"state_of_the_building\"].map({\n",
    "    \"NO_INFO\": 0.87252, #\"TO_RENOVATE\"\n",
    "    \"TO_BE_DONE_UP\": 0.65376, #\"JUST_RENOVATED\"\n",
    "    \"TO_RENOVATE\": 0.56664, #\"TO_RENOVATE\"\n",
    "    \"TO_RESTORE\": 0.46920, #\"TO_REBUILD\"\n",
    "    \"JUST_RENOVATED\": 0.93115, #\"JUST_RENOVATED\"\n",
    "    \"GOOD\": 0.79285, #\"GOOD\"\n",
    "    \"AS_NEW\": 1.0 #\"NEW\"\n",
    "})\n",
    "#Type of property (category)¶\n",
    "df= df.loc[df[\"type_of_property\"] != \"OTHER\"]\n",
    "ohe = OneHotEncoder()\n",
    "transformed_df = ohe.fit_transform(df[['type_of_property']])\n",
    "df[ohe.categories_[0]] = transformed_df.toarray()\n",
    "#price/m² calculate(float)\n",
    "df['price_m2'] = round(df['price']/df['surface'],2)\n",
    "#zipcode ratio calculate(float)\n",
    "df_zip_list = ['price_m2','zip_code_xx']\n",
    "df_zips = df[df_zip_list]\n",
    "xxx_zip = df_zips.groupby('zip_code_xx')\n",
    "xxx_zip_list = []  #stores the name of each zipcode from the data base\n",
    "for key, values in xxx_zip:\n",
    "    xxx_zip_list.append(key)\n",
    "df_zips_mean = round(df_zips.groupby('zip_code_xx').mean(),5)\n",
    "df_zips_mean_values = df_zips_mean.values  # calculates mean for each zipxx\n",
    "zip_mean = [] # stores the values as a list of mean for each zipxx\n",
    "for x in df_zips_mean_values:\n",
    "    for i in x:\n",
    "        zip_mean.append(i)\n",
    "global_mean = statistics.median(zip_mean)  #calculate a global mean\n",
    "xxx = [] #list of the ponderated means \n",
    "for y,i in enumerate(zip_mean):\n",
    "    xxx.append(round(i/global_mean,2)) #calculates the relation of mean/zip code and the global mean\n",
    "dic_zip_value = dict()  #creates a dictionay for zipcodes and values\n",
    "for i,x in enumerate(xxx_zip_list):\n",
    "    dic_zip_value[x] = xxx[i]\n",
    "df['zip_code_ratio'] = df['zip_code_xx']\n",
    "df['zip_code_ratio'] = df['zip_code_ratio'].map(dic_zip_value)"
   ]
  },
  {
   "cell_type": "code",
   "execution_count": 5,
   "id": "8ceecb3b-8328-433b-a3d2-450e9722d727",
   "metadata": {},
   "outputs": [],
   "source": [
    "df_test_api_x = df"
   ]
  },
  {
   "cell_type": "code",
   "execution_count": 6,
   "id": "f38c3c38-6f0d-480e-97b7-11df6fa47cfd",
   "metadata": {},
   "outputs": [],
   "source": [
    "df_test_api = df_test_api_x[['id',\n",
    "                 'price',\n",
    "                 'surface',\n",
    "                 'type_of_property',\n",
    "                 'number_of_bedrooms',\n",
    "                 'postal_code',\n",
    "                 'land_surface',\n",
    "                 'garden',\n",
    "                 'garden_surface',\n",
    "                 'fully_equipped_kitchen',\n",
    "                 'swimming_pool',\n",
    "                 'furnished',\n",
    "                 'open_fire',\n",
    "                 'terrace',\n",
    "                 'terrace_surface',\n",
    "                 'number_of_facades',\n",
    "                 'state_of_the_building'                  \n",
    "                 ]]"
   ]
  },
  {
   "cell_type": "code",
   "execution_count": 7,
   "id": "f20d3cbc-5e11-4a29-a49a-f1d1198af3cc",
   "metadata": {},
   "outputs": [
    {
     "data": {
      "text/html": [
       "<div>\n",
       "<style scoped>\n",
       "    .dataframe tbody tr th:only-of-type {\n",
       "        vertical-align: middle;\n",
       "    }\n",
       "\n",
       "    .dataframe tbody tr th {\n",
       "        vertical-align: top;\n",
       "    }\n",
       "\n",
       "    .dataframe thead th {\n",
       "        text-align: right;\n",
       "    }\n",
       "</style>\n",
       "<table border=\"1\" class=\"dataframe\">\n",
       "  <thead>\n",
       "    <tr style=\"text-align: right;\">\n",
       "      <th></th>\n",
       "      <th>id</th>\n",
       "      <th>price</th>\n",
       "      <th>surface</th>\n",
       "      <th>type_of_property</th>\n",
       "      <th>number_of_bedrooms</th>\n",
       "      <th>postal_code</th>\n",
       "      <th>land_surface</th>\n",
       "      <th>garden</th>\n",
       "      <th>garden_surface</th>\n",
       "      <th>fully_equipped_kitchen</th>\n",
       "      <th>swimming_pool</th>\n",
       "      <th>furnished</th>\n",
       "      <th>open_fire</th>\n",
       "      <th>terrace</th>\n",
       "      <th>terrace_surface</th>\n",
       "      <th>number_of_facades</th>\n",
       "      <th>state_of_the_building</th>\n",
       "    </tr>\n",
       "  </thead>\n",
       "  <tbody>\n",
       "    <tr>\n",
       "      <th>0</th>\n",
       "      <td>10131114</td>\n",
       "      <td>100000</td>\n",
       "      <td>150</td>\n",
       "      <td>HOUSE</td>\n",
       "      <td>2</td>\n",
       "      <td>5377</td>\n",
       "      <td>198</td>\n",
       "      <td>0</td>\n",
       "      <td>0</td>\n",
       "      <td>0.57</td>\n",
       "      <td>0</td>\n",
       "      <td>0</td>\n",
       "      <td>0</td>\n",
       "      <td>1</td>\n",
       "      <td>0</td>\n",
       "      <td>3</td>\n",
       "      <td>0.56664</td>\n",
       "    </tr>\n",
       "    <tr>\n",
       "      <th>1</th>\n",
       "      <td>10150865</td>\n",
       "      <td>219000</td>\n",
       "      <td>100</td>\n",
       "      <td>APARTMENT</td>\n",
       "      <td>2</td>\n",
       "      <td>5500</td>\n",
       "      <td>0</td>\n",
       "      <td>0</td>\n",
       "      <td>0</td>\n",
       "      <td>1.00</td>\n",
       "      <td>0</td>\n",
       "      <td>0</td>\n",
       "      <td>0</td>\n",
       "      <td>1</td>\n",
       "      <td>0</td>\n",
       "      <td>3</td>\n",
       "      <td>0.79285</td>\n",
       "    </tr>\n",
       "    <tr>\n",
       "      <th>3</th>\n",
       "      <td>10022778</td>\n",
       "      <td>285000</td>\n",
       "      <td>81</td>\n",
       "      <td>APARTMENT</td>\n",
       "      <td>2</td>\n",
       "      <td>5030</td>\n",
       "      <td>0</td>\n",
       "      <td>0</td>\n",
       "      <td>0</td>\n",
       "      <td>1.00</td>\n",
       "      <td>0</td>\n",
       "      <td>0</td>\n",
       "      <td>0</td>\n",
       "      <td>1</td>\n",
       "      <td>6</td>\n",
       "      <td>2</td>\n",
       "      <td>1.00000</td>\n",
       "    </tr>\n",
       "    <tr>\n",
       "      <th>4</th>\n",
       "      <td>9989192</td>\n",
       "      <td>284000</td>\n",
       "      <td>150</td>\n",
       "      <td>APARTMENT</td>\n",
       "      <td>2</td>\n",
       "      <td>5060</td>\n",
       "      <td>0</td>\n",
       "      <td>0</td>\n",
       "      <td>0</td>\n",
       "      <td>0.75</td>\n",
       "      <td>0</td>\n",
       "      <td>0</td>\n",
       "      <td>0</td>\n",
       "      <td>1</td>\n",
       "      <td>16</td>\n",
       "      <td>3</td>\n",
       "      <td>1.00000</td>\n",
       "    </tr>\n",
       "    <tr>\n",
       "      <th>5</th>\n",
       "      <td>9951165</td>\n",
       "      <td>179000</td>\n",
       "      <td>150</td>\n",
       "      <td>HOUSE</td>\n",
       "      <td>2</td>\n",
       "      <td>5170</td>\n",
       "      <td>1013</td>\n",
       "      <td>1</td>\n",
       "      <td>0</td>\n",
       "      <td>0.57</td>\n",
       "      <td>0</td>\n",
       "      <td>0</td>\n",
       "      <td>0</td>\n",
       "      <td>0</td>\n",
       "      <td>0</td>\n",
       "      <td>4</td>\n",
       "      <td>0.56664</td>\n",
       "    </tr>\n",
       "    <tr>\n",
       "      <th>...</th>\n",
       "      <td>...</td>\n",
       "      <td>...</td>\n",
       "      <td>...</td>\n",
       "      <td>...</td>\n",
       "      <td>...</td>\n",
       "      <td>...</td>\n",
       "      <td>...</td>\n",
       "      <td>...</td>\n",
       "      <td>...</td>\n",
       "      <td>...</td>\n",
       "      <td>...</td>\n",
       "      <td>...</td>\n",
       "      <td>...</td>\n",
       "      <td>...</td>\n",
       "      <td>...</td>\n",
       "      <td>...</td>\n",
       "      <td>...</td>\n",
       "    </tr>\n",
       "    <tr>\n",
       "      <th>62422</th>\n",
       "      <td>10121854</td>\n",
       "      <td>439900</td>\n",
       "      <td>258</td>\n",
       "      <td>HOUSE</td>\n",
       "      <td>4</td>\n",
       "      <td>9160</td>\n",
       "      <td>969</td>\n",
       "      <td>1</td>\n",
       "      <td>0</td>\n",
       "      <td>0.50</td>\n",
       "      <td>0</td>\n",
       "      <td>0</td>\n",
       "      <td>0</td>\n",
       "      <td>1</td>\n",
       "      <td>0</td>\n",
       "      <td>4</td>\n",
       "      <td>0.65376</td>\n",
       "    </tr>\n",
       "    <tr>\n",
       "      <th>62424</th>\n",
       "      <td>10117346</td>\n",
       "      <td>425000</td>\n",
       "      <td>135</td>\n",
       "      <td>HOUSE</td>\n",
       "      <td>4</td>\n",
       "      <td>9040</td>\n",
       "      <td>80</td>\n",
       "      <td>1</td>\n",
       "      <td>12</td>\n",
       "      <td>0.75</td>\n",
       "      <td>0</td>\n",
       "      <td>0</td>\n",
       "      <td>0</td>\n",
       "      <td>1</td>\n",
       "      <td>7</td>\n",
       "      <td>2</td>\n",
       "      <td>1.00000</td>\n",
       "    </tr>\n",
       "    <tr>\n",
       "      <th>62427</th>\n",
       "      <td>10103172</td>\n",
       "      <td>235000</td>\n",
       "      <td>170</td>\n",
       "      <td>HOUSE</td>\n",
       "      <td>1</td>\n",
       "      <td>9470</td>\n",
       "      <td>170</td>\n",
       "      <td>1</td>\n",
       "      <td>55</td>\n",
       "      <td>0.75</td>\n",
       "      <td>0</td>\n",
       "      <td>0</td>\n",
       "      <td>0</td>\n",
       "      <td>1</td>\n",
       "      <td>30</td>\n",
       "      <td>2</td>\n",
       "      <td>1.00000</td>\n",
       "    </tr>\n",
       "    <tr>\n",
       "      <th>62428</th>\n",
       "      <td>9617011</td>\n",
       "      <td>316200</td>\n",
       "      <td>102</td>\n",
       "      <td>APARTMENT</td>\n",
       "      <td>2</td>\n",
       "      <td>9300</td>\n",
       "      <td>0</td>\n",
       "      <td>0</td>\n",
       "      <td>0</td>\n",
       "      <td>0.50</td>\n",
       "      <td>0</td>\n",
       "      <td>0</td>\n",
       "      <td>0</td>\n",
       "      <td>1</td>\n",
       "      <td>0</td>\n",
       "      <td>1</td>\n",
       "      <td>1.00000</td>\n",
       "    </tr>\n",
       "    <tr>\n",
       "      <th>62429</th>\n",
       "      <td>10024976</td>\n",
       "      <td>210000</td>\n",
       "      <td>163</td>\n",
       "      <td>HOUSE</td>\n",
       "      <td>4</td>\n",
       "      <td>9190</td>\n",
       "      <td>2153</td>\n",
       "      <td>0</td>\n",
       "      <td>0</td>\n",
       "      <td>0.60</td>\n",
       "      <td>0</td>\n",
       "      <td>0</td>\n",
       "      <td>1</td>\n",
       "      <td>1</td>\n",
       "      <td>40</td>\n",
       "      <td>4</td>\n",
       "      <td>0.79285</td>\n",
       "    </tr>\n",
       "  </tbody>\n",
       "</table>\n",
       "<p>43122 rows × 17 columns</p>\n",
       "</div>"
      ],
      "text/plain": [
       "             id   price  surface type_of_property  number_of_bedrooms  \\\n",
       "0      10131114  100000      150            HOUSE                   2   \n",
       "1      10150865  219000      100        APARTMENT                   2   \n",
       "3      10022778  285000       81        APARTMENT                   2   \n",
       "4       9989192  284000      150        APARTMENT                   2   \n",
       "5       9951165  179000      150            HOUSE                   2   \n",
       "...         ...     ...      ...              ...                 ...   \n",
       "62422  10121854  439900      258            HOUSE                   4   \n",
       "62424  10117346  425000      135            HOUSE                   4   \n",
       "62427  10103172  235000      170            HOUSE                   1   \n",
       "62428   9617011  316200      102        APARTMENT                   2   \n",
       "62429  10024976  210000      163            HOUSE                   4   \n",
       "\n",
       "       postal_code  land_surface  garden  garden_surface  \\\n",
       "0             5377           198       0               0   \n",
       "1             5500             0       0               0   \n",
       "3             5030             0       0               0   \n",
       "4             5060             0       0               0   \n",
       "5             5170          1013       1               0   \n",
       "...            ...           ...     ...             ...   \n",
       "62422         9160           969       1               0   \n",
       "62424         9040            80       1              12   \n",
       "62427         9470           170       1              55   \n",
       "62428         9300             0       0               0   \n",
       "62429         9190          2153       0               0   \n",
       "\n",
       "       fully_equipped_kitchen  swimming_pool  furnished  open_fire  terrace  \\\n",
       "0                        0.57              0          0          0        1   \n",
       "1                        1.00              0          0          0        1   \n",
       "3                        1.00              0          0          0        1   \n",
       "4                        0.75              0          0          0        1   \n",
       "5                        0.57              0          0          0        0   \n",
       "...                       ...            ...        ...        ...      ...   \n",
       "62422                    0.50              0          0          0        1   \n",
       "62424                    0.75              0          0          0        1   \n",
       "62427                    0.75              0          0          0        1   \n",
       "62428                    0.50              0          0          0        1   \n",
       "62429                    0.60              0          0          1        1   \n",
       "\n",
       "       terrace_surface  number_of_facades  state_of_the_building  \n",
       "0                    0                  3                0.56664  \n",
       "1                    0                  3                0.79285  \n",
       "3                    6                  2                1.00000  \n",
       "4                   16                  3                1.00000  \n",
       "5                    0                  4                0.56664  \n",
       "...                ...                ...                    ...  \n",
       "62422                0                  4                0.65376  \n",
       "62424                7                  2                1.00000  \n",
       "62427               30                  2                1.00000  \n",
       "62428                0                  1                1.00000  \n",
       "62429               40                  4                0.79285  \n",
       "\n",
       "[43122 rows x 17 columns]"
      ]
     },
     "execution_count": 7,
     "metadata": {},
     "output_type": "execute_result"
    }
   ],
   "source": [
    "df_test_api"
   ]
  },
  {
   "cell_type": "code",
   "execution_count": 8,
   "id": "8a28fa78-f815-4295-9eca-5d9535fab0cd",
   "metadata": {},
   "outputs": [],
   "source": [
    "filtered_atributes = [\n",
    "    'price',\n",
    "    #'id',\n",
    " #'locality',\n",
    " #'postal_code',\n",
    " # 'region',\n",
    " # 'province',\n",
    " # 'type_of_property',\n",
    " #'subtype_of_property',\n",
    " #'type_of_sale',\n",
    " 'number_of_bedrooms',\n",
    " 'surface',\n",
    " #'kitchen_type',\n",
    " 'fully_equipped_kitchen',\n",
    " #'furnished',\n",
    " 'open_fire',\n",
    " #'terrace',\n",
    " 'terrace_surface',\n",
    " 'garden',\n",
    " #'garden_surface',\n",
    " #'land_surface',\n",
    " 'number_of_facades',\n",
    " 'swimming_pool',\n",
    " 'state_of_the_building',\n",
    " #'zip_code_xx',\n",
    " #'price_m2',\n",
    " 'zip_code_ratio',\n",
    "'HOUSE',\n",
    "'APARTMENT']"
   ]
  },
  {
   "cell_type": "code",
   "execution_count": 9,
   "id": "ff711f22-149c-4097-94b7-7cce06436324",
   "metadata": {},
   "outputs": [],
   "source": [
    "df = df[filtered_atributes]"
   ]
  },
  {
   "cell_type": "code",
   "execution_count": 10,
   "id": "0bbe373d-aa90-42a4-8f4b-0d55b9f8f95a",
   "metadata": {},
   "outputs": [],
   "source": [
    "df_shape_final = df.shape"
   ]
  },
  {
   "cell_type": "code",
   "execution_count": 11,
   "id": "d0097007-c360-493a-9bbc-0a575d0dc34c",
   "metadata": {},
   "outputs": [
    {
     "name": "stdout",
     "output_type": "stream",
     "text": [
      "initial_df (62430, 23) claned_df (43122, 13)\n"
     ]
    }
   ],
   "source": [
    "print(f'initial_df {df_shape_initial} claned_df {df_shape_final}')"
   ]
  },
  {
   "cell_type": "code",
   "execution_count": 12,
   "id": "5450be53-d895-45e0-ac78-bd4245f652dc",
   "metadata": {},
   "outputs": [
    {
     "data": {
      "text/plain": [
       "price                     1.000000\n",
       "number_of_bedrooms        0.409657\n",
       "surface                   0.524249\n",
       "fully_equipped_kitchen    0.212025\n",
       "open_fire                 0.143235\n",
       "terrace_surface           0.173810\n",
       "garden                    0.136044\n",
       "number_of_facades         0.205666\n",
       "swimming_pool             0.138481\n",
       "state_of_the_building     0.218567\n",
       "zip_code_ratio            0.376468\n",
       "HOUSE                     0.152233\n",
       "APARTMENT                -0.152233\n",
       "Name: price, dtype: float64"
      ]
     },
     "execution_count": 12,
     "metadata": {},
     "output_type": "execute_result"
    }
   ],
   "source": [
    "df.corr()['price']"
   ]
  },
  {
   "cell_type": "code",
   "execution_count": 13,
   "id": "1f0aa50f-4b8f-4684-bb8f-90a8c4cfaabf",
   "metadata": {},
   "outputs": [
    {
     "data": {
      "text/html": [
       "<div>\n",
       "<style scoped>\n",
       "    .dataframe tbody tr th:only-of-type {\n",
       "        vertical-align: middle;\n",
       "    }\n",
       "\n",
       "    .dataframe tbody tr th {\n",
       "        vertical-align: top;\n",
       "    }\n",
       "\n",
       "    .dataframe thead th {\n",
       "        text-align: right;\n",
       "    }\n",
       "</style>\n",
       "<table border=\"1\" class=\"dataframe\">\n",
       "  <thead>\n",
       "    <tr style=\"text-align: right;\">\n",
       "      <th></th>\n",
       "      <th>price</th>\n",
       "      <th>number_of_bedrooms</th>\n",
       "      <th>surface</th>\n",
       "      <th>fully_equipped_kitchen</th>\n",
       "      <th>open_fire</th>\n",
       "      <th>terrace_surface</th>\n",
       "      <th>garden</th>\n",
       "      <th>number_of_facades</th>\n",
       "      <th>swimming_pool</th>\n",
       "      <th>state_of_the_building</th>\n",
       "      <th>zip_code_ratio</th>\n",
       "      <th>HOUSE</th>\n",
       "      <th>APARTMENT</th>\n",
       "    </tr>\n",
       "  </thead>\n",
       "  <tbody>\n",
       "    <tr>\n",
       "      <th>0</th>\n",
       "      <td>100000</td>\n",
       "      <td>2</td>\n",
       "      <td>150</td>\n",
       "      <td>0.57</td>\n",
       "      <td>0</td>\n",
       "      <td>0</td>\n",
       "      <td>0</td>\n",
       "      <td>3</td>\n",
       "      <td>0</td>\n",
       "      <td>0.56664</td>\n",
       "      <td>0.75</td>\n",
       "      <td>1.0</td>\n",
       "      <td>0.0</td>\n",
       "    </tr>\n",
       "    <tr>\n",
       "      <th>1</th>\n",
       "      <td>219000</td>\n",
       "      <td>2</td>\n",
       "      <td>100</td>\n",
       "      <td>1.00</td>\n",
       "      <td>0</td>\n",
       "      <td>0</td>\n",
       "      <td>0</td>\n",
       "      <td>3</td>\n",
       "      <td>0</td>\n",
       "      <td>0.79285</td>\n",
       "      <td>0.74</td>\n",
       "      <td>0.0</td>\n",
       "      <td>1.0</td>\n",
       "    </tr>\n",
       "    <tr>\n",
       "      <th>3</th>\n",
       "      <td>285000</td>\n",
       "      <td>2</td>\n",
       "      <td>81</td>\n",
       "      <td>1.00</td>\n",
       "      <td>0</td>\n",
       "      <td>6</td>\n",
       "      <td>0</td>\n",
       "      <td>2</td>\n",
       "      <td>0</td>\n",
       "      <td>1.00000</td>\n",
       "      <td>1.07</td>\n",
       "      <td>0.0</td>\n",
       "      <td>1.0</td>\n",
       "    </tr>\n",
       "    <tr>\n",
       "      <th>4</th>\n",
       "      <td>284000</td>\n",
       "      <td>2</td>\n",
       "      <td>150</td>\n",
       "      <td>0.75</td>\n",
       "      <td>0</td>\n",
       "      <td>16</td>\n",
       "      <td>0</td>\n",
       "      <td>3</td>\n",
       "      <td>0</td>\n",
       "      <td>1.00000</td>\n",
       "      <td>0.82</td>\n",
       "      <td>0.0</td>\n",
       "      <td>1.0</td>\n",
       "    </tr>\n",
       "    <tr>\n",
       "      <th>5</th>\n",
       "      <td>179000</td>\n",
       "      <td>2</td>\n",
       "      <td>150</td>\n",
       "      <td>0.57</td>\n",
       "      <td>0</td>\n",
       "      <td>0</td>\n",
       "      <td>1</td>\n",
       "      <td>4</td>\n",
       "      <td>0</td>\n",
       "      <td>0.56664</td>\n",
       "      <td>0.95</td>\n",
       "      <td>1.0</td>\n",
       "      <td>0.0</td>\n",
       "    </tr>\n",
       "    <tr>\n",
       "      <th>...</th>\n",
       "      <td>...</td>\n",
       "      <td>...</td>\n",
       "      <td>...</td>\n",
       "      <td>...</td>\n",
       "      <td>...</td>\n",
       "      <td>...</td>\n",
       "      <td>...</td>\n",
       "      <td>...</td>\n",
       "      <td>...</td>\n",
       "      <td>...</td>\n",
       "      <td>...</td>\n",
       "      <td>...</td>\n",
       "      <td>...</td>\n",
       "    </tr>\n",
       "    <tr>\n",
       "      <th>62422</th>\n",
       "      <td>439900</td>\n",
       "      <td>4</td>\n",
       "      <td>258</td>\n",
       "      <td>0.50</td>\n",
       "      <td>0</td>\n",
       "      <td>0</td>\n",
       "      <td>1</td>\n",
       "      <td>4</td>\n",
       "      <td>0</td>\n",
       "      <td>0.65376</td>\n",
       "      <td>1.16</td>\n",
       "      <td>1.0</td>\n",
       "      <td>0.0</td>\n",
       "    </tr>\n",
       "    <tr>\n",
       "      <th>62424</th>\n",
       "      <td>425000</td>\n",
       "      <td>4</td>\n",
       "      <td>135</td>\n",
       "      <td>0.75</td>\n",
       "      <td>0</td>\n",
       "      <td>7</td>\n",
       "      <td>1</td>\n",
       "      <td>2</td>\n",
       "      <td>0</td>\n",
       "      <td>1.00000</td>\n",
       "      <td>1.28</td>\n",
       "      <td>1.0</td>\n",
       "      <td>0.0</td>\n",
       "    </tr>\n",
       "    <tr>\n",
       "      <th>62427</th>\n",
       "      <td>235000</td>\n",
       "      <td>1</td>\n",
       "      <td>170</td>\n",
       "      <td>0.75</td>\n",
       "      <td>0</td>\n",
       "      <td>30</td>\n",
       "      <td>1</td>\n",
       "      <td>2</td>\n",
       "      <td>0</td>\n",
       "      <td>1.00000</td>\n",
       "      <td>0.95</td>\n",
       "      <td>1.0</td>\n",
       "      <td>0.0</td>\n",
       "    </tr>\n",
       "    <tr>\n",
       "      <th>62428</th>\n",
       "      <td>316200</td>\n",
       "      <td>2</td>\n",
       "      <td>102</td>\n",
       "      <td>0.50</td>\n",
       "      <td>0</td>\n",
       "      <td>0</td>\n",
       "      <td>0</td>\n",
       "      <td>1</td>\n",
       "      <td>0</td>\n",
       "      <td>1.00000</td>\n",
       "      <td>1.03</td>\n",
       "      <td>0.0</td>\n",
       "      <td>1.0</td>\n",
       "    </tr>\n",
       "    <tr>\n",
       "      <th>62429</th>\n",
       "      <td>210000</td>\n",
       "      <td>4</td>\n",
       "      <td>163</td>\n",
       "      <td>0.60</td>\n",
       "      <td>1</td>\n",
       "      <td>40</td>\n",
       "      <td>0</td>\n",
       "      <td>4</td>\n",
       "      <td>0</td>\n",
       "      <td>0.79285</td>\n",
       "      <td>1.10</td>\n",
       "      <td>1.0</td>\n",
       "      <td>0.0</td>\n",
       "    </tr>\n",
       "  </tbody>\n",
       "</table>\n",
       "<p>43122 rows × 13 columns</p>\n",
       "</div>"
      ],
      "text/plain": [
       "        price  number_of_bedrooms  surface  fully_equipped_kitchen  open_fire  \\\n",
       "0      100000                   2      150                    0.57          0   \n",
       "1      219000                   2      100                    1.00          0   \n",
       "3      285000                   2       81                    1.00          0   \n",
       "4      284000                   2      150                    0.75          0   \n",
       "5      179000                   2      150                    0.57          0   \n",
       "...       ...                 ...      ...                     ...        ...   \n",
       "62422  439900                   4      258                    0.50          0   \n",
       "62424  425000                   4      135                    0.75          0   \n",
       "62427  235000                   1      170                    0.75          0   \n",
       "62428  316200                   2      102                    0.50          0   \n",
       "62429  210000                   4      163                    0.60          1   \n",
       "\n",
       "       terrace_surface  garden  number_of_facades  swimming_pool  \\\n",
       "0                    0       0                  3              0   \n",
       "1                    0       0                  3              0   \n",
       "3                    6       0                  2              0   \n",
       "4                   16       0                  3              0   \n",
       "5                    0       1                  4              0   \n",
       "...                ...     ...                ...            ...   \n",
       "62422                0       1                  4              0   \n",
       "62424                7       1                  2              0   \n",
       "62427               30       1                  2              0   \n",
       "62428                0       0                  1              0   \n",
       "62429               40       0                  4              0   \n",
       "\n",
       "       state_of_the_building  zip_code_ratio  HOUSE  APARTMENT  \n",
       "0                    0.56664            0.75    1.0        0.0  \n",
       "1                    0.79285            0.74    0.0        1.0  \n",
       "3                    1.00000            1.07    0.0        1.0  \n",
       "4                    1.00000            0.82    0.0        1.0  \n",
       "5                    0.56664            0.95    1.0        0.0  \n",
       "...                      ...             ...    ...        ...  \n",
       "62422                0.65376            1.16    1.0        0.0  \n",
       "62424                1.00000            1.28    1.0        0.0  \n",
       "62427                1.00000            0.95    1.0        0.0  \n",
       "62428                1.00000            1.03    0.0        1.0  \n",
       "62429                0.79285            1.10    1.0        0.0  \n",
       "\n",
       "[43122 rows x 13 columns]"
      ]
     },
     "execution_count": 13,
     "metadata": {},
     "output_type": "execute_result"
    }
   ],
   "source": [
    "df"
   ]
  },
  {
   "cell_type": "markdown",
   "id": "902504ee-f5a8-49d8-9ca6-3e6d8800b9af",
   "metadata": {},
   "source": [
    "Initial correlation with price\n",
    "price                     1.000000\n",
    "number_of_bedrooms        0.409657\n",
    "surface                   0.524249\n",
    "fully_equipped_kitchen    0.156355\n",
    "furnished                -0.003122\n",
    "open_fire                 0.143235\n",
    "terrace                   0.119998\n",
    "terrace_surface           0.173810\n",
    "garden                    0.136044\n",
    "garden_surface            0.098383\n",
    "land_surface              0.056684\n",
    "number_of_facades         0.205666\n",
    "swimming_pool             0.138481\n",
    "state_of_the_building     0.218567\n",
    "zip_code_ratio            0.376310"
   ]
  },
  {
   "cell_type": "markdown",
   "id": "79c1e612-99f1-43ce-a339-bac9a7094fc4",
   "metadata": {},
   "source": [
    "#### **House model**"
   ]
  },
  {
   "cell_type": "code",
   "execution_count": 14,
   "id": "90b2a8bd-f429-4a9e-bcae-190d7238f65b",
   "metadata": {},
   "outputs": [],
   "source": [
    "X = df.iloc[:,1:].values  #features\n",
    "Y = df.iloc[:,0].values  #target : price"
   ]
  },
  {
   "cell_type": "code",
   "execution_count": 15,
   "id": "c3c07bd4-0d3d-4930-9042-5633473f5f5e",
   "metadata": {},
   "outputs": [
    {
     "name": "stdout",
     "output_type": "stream",
     "text": [
      "(34497, 12)\n",
      "(8625, 12)\n",
      "(34497,)\n",
      "(8625,)\n"
     ]
    }
   ],
   "source": [
    "X_train, X_test, Y_train, Y_test = train_test_split(X, Y, test_size = 0.2, random_state=5)\n",
    "print(X_train.shape)\n",
    "print(X_test.shape)\n",
    "print(Y_train.shape)\n",
    "print(Y_test.shape)"
   ]
  },
  {
   "cell_type": "code",
   "execution_count": 16,
   "id": "feb2f6a9-820c-443a-83d9-80abf2adc5cc",
   "metadata": {},
   "outputs": [],
   "source": [
    "scaler = StandardScaler().fit(X_train)\n",
    "X_train = scaler.transform(X_train)\n",
    "X_test = scaler.transform(X_test)"
   ]
  },
  {
   "cell_type": "code",
   "execution_count": 17,
   "id": "7c67f0c2-b3f8-4fe2-9685-f5c60a4f923d",
   "metadata": {},
   "outputs": [],
   "source": [
    "poly_features = PolynomialFeatures(degree=3)\n",
    "# transforms the existing features to higher degree features.\n",
    "X_train_poly = poly_features.fit_transform(X_train)\n",
    "# fit the transformed features to Linear Regression\n",
    "poly_model = LinearRegression()\n",
    "poly_model.fit(X_train_poly, Y_train)\n",
    "# predicting on training data-set\n",
    "y_train_predicted = poly_model.predict(X_train_poly)\n",
    "# predicting on test data-set\n",
    "y_test_predict = poly_model.predict(poly_features.fit_transform(X_test))"
   ]
  },
  {
   "cell_type": "code",
   "execution_count": 18,
   "id": "0304b140-fa36-4b15-b2dd-ca69a94f544c",
   "metadata": {},
   "outputs": [
    {
     "data": {
      "text/plain": [
       "124909.25"
      ]
     },
     "execution_count": 18,
     "metadata": {},
     "output_type": "execute_result"
    }
   ],
   "source": [
    "y_train_predicted[1]"
   ]
  },
  {
   "cell_type": "code",
   "execution_count": 19,
   "id": "fc79be58-afa5-4921-ac59-70e682f2c76b",
   "metadata": {},
   "outputs": [
    {
     "data": {
      "text/plain": [
       "291725"
      ]
     },
     "execution_count": 19,
     "metadata": {},
     "output_type": "execute_result"
    }
   ],
   "source": [
    "Y_test[4]"
   ]
  },
  {
   "cell_type": "code",
   "execution_count": 20,
   "id": "a74348cb-a8c1-4946-90cc-94a598906570",
   "metadata": {},
   "outputs": [
    {
     "data": {
      "text/plain": [
       "271750.75"
      ]
     },
     "execution_count": 20,
     "metadata": {},
     "output_type": "execute_result"
    }
   ],
   "source": [
    "y_test_predict[4]"
   ]
  },
  {
   "cell_type": "code",
   "execution_count": 21,
   "id": "ddd9e7f7-199d-4a27-8567-d00e6d181b28",
   "metadata": {},
   "outputs": [],
   "source": [
    "# evaluating the model on training dataset\n",
    "rmse_train = np.sqrt(mean_squared_error(Y_train, y_train_predicted))\n",
    "r2_train = r2_score(Y_train, y_train_predicted)"
   ]
  },
  {
   "cell_type": "code",
   "execution_count": 22,
   "id": "42a31282-14f9-42ed-85f0-9962437604a1",
   "metadata": {},
   "outputs": [],
   "source": [
    "# evaluating the model on test dataset\n",
    "rmse_test = np.sqrt(mean_squared_error(Y_test, y_test_predict))\n",
    "r2_test = r2_score(Y_test, y_test_predict)"
   ]
  },
  {
   "cell_type": "code",
   "execution_count": 23,
   "id": "77c2269c-818e-44fd-913b-f204d28cb406",
   "metadata": {},
   "outputs": [],
   "source": [
    "result = {'rmse_train':round(rmse_train,2),'r2_train':round(r2_train,2),'rmse_test':round(rmse_test,2),'r2_test':round(r2_test,2)}"
   ]
  },
  {
   "cell_type": "code",
   "execution_count": 24,
   "id": "ad21be75-30b9-4827-9914-d4e87b3394a0",
   "metadata": {},
   "outputs": [
    {
     "data": {
      "text/plain": [
       "{'rmse_train': 81196.42,\n",
       " 'r2_train': 0.72,\n",
       " 'rmse_test': 85317.24,\n",
       " 'r2_test': 0.7}"
      ]
     },
     "execution_count": 24,
     "metadata": {},
     "output_type": "execute_result"
    }
   ],
   "source": [
    "result"
   ]
  },
  {
   "cell_type": "markdown",
   "id": "c5ea9641-a4ed-46e9-9381-49a7fb673d17",
   "metadata": {},
   "source": [
    "## Save model"
   ]
  },
  {
   "cell_type": "markdown",
   "id": "bd2cfd86-04c4-45cb-b789-2754deff2ad8",
   "metadata": {},
   "source": [
    "Save the model using pickle"
   ]
  },
  {
   "cell_type": "code",
   "execution_count": 25,
   "id": "ae8662a1-55ab-4b5d-9e6c-82b69500e004",
   "metadata": {},
   "outputs": [],
   "source": [
    "import pickle"
   ]
  },
  {
   "cell_type": "code",
   "execution_count": 26,
   "id": "27de7012-13d0-492d-bcb6-19b80c6ef864",
   "metadata": {},
   "outputs": [],
   "source": [
    "filename = 'immo_house_model.pkl'\n",
    "pickle.dump(poly_model, open(filename, 'wb'))"
   ]
  },
  {
   "cell_type": "code",
   "execution_count": null,
   "id": "638e77fd-91cd-4073-b5ae-40ded15ef241",
   "metadata": {},
   "outputs": [],
   "source": []
  },
  {
   "cell_type": "markdown",
   "id": "389185fd-c0aa-4235-bc79-fc005eaa9e88",
   "metadata": {
    "tags": []
   },
   "source": [
    "# **Preprocessing**"
   ]
  },
  {
   "cell_type": "markdown",
   "id": "9297826c-0b54-49e2-a560-dd827ea462b9",
   "metadata": {},
   "source": [
    "Clean and Transform the json file as an array\n",
    "{}, same order as the ML model"
   ]
  },
  {
   "cell_type": "code",
   "execution_count": 27,
   "id": "5d5012c5-50f7-458f-837a-54e32637aabc",
   "metadata": {},
   "outputs": [],
   "source": [
    "import json"
   ]
  },
  {
   "cell_type": "code",
   "execution_count": 28,
   "id": "1d156683-66aa-4c10-bde4-32abe90ebe9d",
   "metadata": {},
   "outputs": [],
   "source": [
    "input_property_json = {\n",
    "  \"data\": {\n",
    "    \"area\": 150,\n",
    "    \"property_type\": \"APARTMENT\",\n",
    "    \"rooms_number\": 2,\n",
    "    \"zip_code\": 5377,\n",
    "    \"land_area\": 198,\n",
    "    \"garden\": False,\n",
    "    \"garden_area\": 0,\n",
    "    \"equipped_kitchen\": None,\n",
    "    \"full_address\": \"Heure 134 Montgomery strt\",\n",
    "    \"swimming_pool\": False,\n",
    "    \"furnished\": False,\n",
    "    \"open_fire\": False,\n",
    "    \"terrace\": False,\n",
    "    \"terrace_area\": 0,\n",
    "    \"facades_number\": None,\n",
    "    \"building_state\": None \n",
    "  }\n",
    "}"
   ]
  },
  {
   "cell_type": "code",
   "execution_count": 29,
   "id": "9b8d7bc1-5acb-4a35-9a8e-975d7c871acb",
   "metadata": {},
   "outputs": [],
   "source": [
    "with open(\"preprocessing/test_property.json\", \"w\") as outfile:\n",
    "    json.dump(input_property_json, outfile)"
   ]
  },
  {
   "cell_type": "code",
   "execution_count": 30,
   "id": "9cb6cc43-e544-40f4-b751-8e2faee11688",
   "metadata": {},
   "outputs": [],
   "source": [
    "with open(\"preprocessing/test_property.json\", 'r') as openfile:\n",
    "    json_object = json.load(openfile)"
   ]
  },
  {
   "cell_type": "code",
   "execution_count": 31,
   "id": "4e48c9a9-3942-49c5-ac1a-bb016bfb504f",
   "metadata": {},
   "outputs": [
    {
     "data": {
      "text/plain": [
       "{'data': {'area': 150,\n",
       "  'property_type': 'APARTMENT',\n",
       "  'rooms_number': 2,\n",
       "  'zip_code': 5377,\n",
       "  'land_area': 198,\n",
       "  'garden': False,\n",
       "  'garden_area': 0,\n",
       "  'equipped_kitchen': None,\n",
       "  'full_address': 'Heure 134 Montgomery strt',\n",
       "  'swimming_pool': False,\n",
       "  'furnished': False,\n",
       "  'open_fire': False,\n",
       "  'terrace': False,\n",
       "  'terrace_area': 0,\n",
       "  'facades_number': None,\n",
       "  'building_state': None}}"
      ]
     },
     "execution_count": 31,
     "metadata": {},
     "output_type": "execute_result"
    }
   ],
   "source": [
    "json_object"
   ]
  },
  {
   "cell_type": "code",
   "execution_count": 32,
   "id": "faeac18c-36be-4422-9130-c6a6cd796e1a",
   "metadata": {},
   "outputs": [],
   "source": [
    "def transform_elment(element):\n",
    "    zip_code_dict_xx = {'be_zip_10': 1.53,\n",
    "    'be_zip_11': 1.68,\n",
    "    'be_zip_12': 1.66,\n",
    "    'be_zip_13': 1.29,\n",
    "    'be_zip_14': 1.18,\n",
    "    'be_zip_15': 1.24,\n",
    "    'be_zip_16': 1.31,\n",
    "    'be_zip_17': 1.23,\n",
    "    'be_zip_18': 1.22,\n",
    "    'be_zip_19': 1.5,\n",
    "    'be_zip_20': 1.53,\n",
    "    'be_zip_21': 1.17,\n",
    "    'be_zip_22': 1.13,\n",
    "    'be_zip_23': 1.12,\n",
    "    'be_zip_24': 1.03,\n",
    "    'be_zip_25': 1.24,\n",
    "    'be_zip_26': 1.27,\n",
    "    'be_zip_27': 1.11, \n",
    "    'be_zip_28': 1.22,\n",
    "    'be_zip_29': 1.3,\n",
    "    'be_zip_30': 1.58,\n",
    "    'be_zip_31': 1.18,\n",
    "    'be_zip_32': 1.1,\n",
    "    'be_zip_33': 1.07,\n",
    "    'be_zip_34': 0.87,\n",
    "    'be_zip_35': 1.13,\n",
    "    'be_zip_36': 1.0,\n",
    "    'be_zip_37': 0.9,\n",
    "    'be_zip_38': 0.94,\n",
    "    'be_zip_39': 1.0,\n",
    "    'be_zip_40': 0.93,\n",
    "    'be_zip_41': 0.85,\n",
    "    'be_zip_42': 0.86,\n",
    "    'be_zip_43': 0.87,\n",
    "    'be_zip_44': 0.81,\n",
    "    'be_zip_45': 0.76,\n",
    "    'be_zip_46': 0.95,\n",
    "    'be_zip_47': 0.98,\n",
    "    'be_zip_48': 0.85,\n",
    "    'be_zip_49': 0.94,\n",
    "    'be_zip_50': 0.97,\n",
    "    'be_zip_51': 1.0,\n",
    "    'be_zip_52': 0.77,  \n",
    "    'be_zip_53': 0.87,\n",
    "    'be_zip_54': 0.77,\n",
    "    'be_zip_55': 0.76,\n",
    "    'be_zip_56': 0.67,\n",
    "    'be_zip_57': 0.77,\n",
    "    'be_zip_58': 0.77,\n",
    "    'be_zip_59': 0.77,\n",
    "    'be_zip_60': 0.64,\n",
    "    'be_zip_61': 0.74,\n",
    "    'be_zip_62': 0.78,\n",
    "    'be_zip_63': 0.69,\n",
    "    'be_zip_64': 0.66,\n",
    "    'be_zip_65': 0.67,\n",
    "    'be_zip_66': 0.91,\n",
    "    'be_zip_67': 0.97,\n",
    "    'be_zip_68': 0.84,\n",
    "    'be_zip_69': 0.83,\n",
    "    'be_zip_70': 0.8,\n",
    "    'be_zip_71': 0.69,\n",
    "    'be_zip_72': 0.67,\n",
    "    'be_zip_73': 0.58,\n",
    "    'be_zip_75': 0.86,\n",
    "    'be_zip_76': 0.66,\n",
    "    'be_zip_77': 0.79,\n",
    "    'be_zip_78': 0.91,\n",
    "    'be_zip_79': 0.66,\n",
    "    'be_zip_80': 1.34,\n",
    "    'be_zip_81': 1.25,\n",
    "    'be_zip_82': 1.32,\n",
    "    'be_zip_83': 2.12,\n",
    "    'be_zip_84': 1.43,\n",
    "    'be_zip_85': 1.06,\n",
    "    'be_zip_86': 1.61,\n",
    "    'be_zip_87': 1.16,\n",
    "    'be_zip_88': 0.98,\n",
    "    'be_zip_89': 0.95,\n",
    "    'be_zip_90': 1.46,\n",
    "    'be_zip_91': 1.13,\n",
    "    'be_zip_92': 1.11,\n",
    "    'be_zip_93': 1.03,\n",
    "    'be_zip_94': 1.0,\n",
    "    'be_zip_95': 0.96,\n",
    "    'be_zip_96': 0.94,\n",
    "    'be_zip_97': 1.11,\n",
    "    'be_zip_98': 1.27,\n",
    "    'be_zip_99': 1.16}\n",
    "    \n",
    "    state_of_the_building_dict = {\n",
    "    \"NEW\": 1.0,\n",
    "    \"GOOD\": 0.79285,\n",
    "    \"TO RENOVATE\": 0.56664,\n",
    "    \"JUST RENOVATED\": 0.93115,\n",
    "    \"TO REBUILD\": 0.46920\n",
    "    }\n",
    "    \n",
    "    transformed_elment = {\n",
    "    #'type_of_property': element[\"data\"][\"property-type\"],\n",
    "    #'full_address': element[\"data\"][\"full-address\"],\n",
    "    #'zip_code_xx': element[\"data\"][\"zip-code\"]\n",
    "    'number_of_bedrooms': element[\"data\"][\"rooms_number\"],\n",
    "    'surface': element[\"data\"][\"area\"],    \n",
    "    'fully_equipped_kitchen': 1 if element[\"data\"][\"equipped_kitchen\"] == True else 0,\n",
    "    #'furnished': element[\"data\"][\"furnished\"],\n",
    "    'open_fire': 1 if element[\"data\"][\"open_fire\"] == True else 0,\n",
    "    #'terrace': element[\"data\"][\"terrace\"],\n",
    "    'terrace_surface': element[\"data\"][\"terrace_area\"] if element[\"data\"][\"terrace_area\"] is not None else 0,\n",
    "    'garden': 1 if element[\"data\"][\"garden\"] == True else 0,\n",
    "    #'garden_surface': element[\"data\"][\"garden-area\"],\n",
    "    #'land_surface': element[\"data\"][\"land-area\"],\n",
    "    'number_of_facades': element[\"data\"][\"facades_number\"] if element[\"data\"][\"facades_number\"] is not None else 1 if element[\"data\"][\"property_type\"] == 'APARTMENT' else 2,\n",
    "    'swimming_pool': 1 if element[\"data\"][\"swimming_pool\"] == True else 0,\n",
    "    'state_of_the_building': state_of_the_building_dict[element[\"data\"][\"building_state\"]] if element[\"data\"][\"building_state\"] is not None else 0.87252,\n",
    "    'zip_code_ratio': zip_code_dict_xx['be_zip_'+str(element[\"data\"][\"zip_code\"])[:2]],\n",
    "    'HOUSE': 1 if element[\"data\"][\"property_type\"] == 'HOUSE' else 0,\n",
    "    'APARTMENT': 1 if element[\"data\"][\"property_type\"] == 'APARTMENT' else 0\n",
    "    }\n",
    "    return list(transformed_elment.values())"
   ]
  },
  {
   "cell_type": "code",
   "execution_count": 33,
   "id": "6b4287be-196a-4d9b-8ad4-87f22c2533b2",
   "metadata": {},
   "outputs": [],
   "source": [
    "x = transform_elment(json_object)"
   ]
  },
  {
   "cell_type": "code",
   "execution_count": 34,
   "id": "12b789a9-e1d7-476d-8f66-2c3c1b033781",
   "metadata": {},
   "outputs": [
    {
     "data": {
      "text/plain": [
       "[2, 150, 0, 0, 0, 0, 1, 0, 0.87252, 0.87, 0, 1]"
      ]
     },
     "execution_count": 34,
     "metadata": {},
     "output_type": "execute_result"
    }
   ],
   "source": [
    "x"
   ]
  },
  {
   "cell_type": "markdown",
   "id": "72657f44-692d-4018-acf4-ef5f5bec58ee",
   "metadata": {
    "jp-MarkdownHeadingCollapsed": true,
    "tags": []
   },
   "source": [
    "# **Predict**"
   ]
  },
  {
   "cell_type": "code",
   "execution_count": 35,
   "id": "51d7d47e-1a99-4921-8b33-777431832ab7",
   "metadata": {},
   "outputs": [],
   "source": [
    "from fastapi import FastAPI\n",
    "from pydantic import BaseModel\n",
    "import pickle\n",
    "import pandas as pd"
   ]
  },
  {
   "cell_type": "markdown",
   "id": "759bff45-06e7-4fb8-bbfb-c4b3a0a68c4e",
   "metadata": {},
   "source": [
    "with open('immo_house_model.pkl', 'rb') as f: \n",
    "    house_model = pickle.load(f)"
   ]
  },
  {
   "cell_type": "code",
   "execution_count": 36,
   "id": "723740b3-a43d-4a21-9dd2-3ece8151b55f",
   "metadata": {},
   "outputs": [],
   "source": [
    "app = FastAPI()"
   ]
  },
  {
   "cell_type": "code",
   "execution_count": 37,
   "id": "a4709417-cc12-4193-9b2b-db3731070a4d",
   "metadata": {},
   "outputs": [],
   "source": [
    "@app.get('/')\n",
    "async def scoring_endpoint():\n",
    "    return {\"hello\":\"world\"}"
   ]
  },
  {
   "cell_type": "markdown",
   "id": "af192a0a-b86a-4c4d-9674-9d2ec6a64d2a",
   "metadata": {
    "tags": []
   },
   "source": [
    "@app.post('/')\n",
    "async def scoring_endpoint(item:ScoringItem):\n",
    "    df = pd.DataFrame([item.dict().values()], columns=item.dict().keys())\n",
    "    yhat = house_model.predict(df)\n",
    "    status_code = \"?\"\n",
    "    return {\"prediction\": int(yhat), \"status_code\": str(status_code)}"
   ]
  },
  {
   "cell_type": "code",
   "execution_count": null,
   "id": "62040aa1-f7c3-4b3a-88af-76d7ff46aaa0",
   "metadata": {},
   "outputs": [],
   "source": []
  },
  {
   "cell_type": "code",
   "execution_count": 38,
   "id": "daebad31-fc27-44c9-b45c-9c5186cb9cb8",
   "metadata": {},
   "outputs": [
    {
     "ename": "SyntaxError",
     "evalue": "incomplete input (14203027.py, line 1)",
     "output_type": "error",
     "traceback": [
      "\u001b[0;36m  Cell \u001b[0;32mIn [38], line 1\u001b[0;36m\u001b[0m\n\u001b[0;31m    def predict(clean_data):\u001b[0m\n\u001b[0m                            ^\u001b[0m\n\u001b[0;31mSyntaxError\u001b[0m\u001b[0;31m:\u001b[0m incomplete input\n"
     ]
    }
   ],
   "source": [
    "def predict(clean_data):"
   ]
  },
  {
   "cell_type": "markdown",
   "id": "04ea579d-5445-43c9-826f-3d6dbd195045",
   "metadata": {
    "tags": []
   },
   "source": [
    "# **App**"
   ]
  },
  {
   "cell_type": "markdown",
   "id": "ca19361c-9488-4be9-9d17-d28b0a7c68c6",
   "metadata": {},
   "source": []
  },
  {
   "cell_type": "markdown",
   "id": "399b4d25-90a6-46a4-b355-ba32da1b5972",
   "metadata": {},
   "source": []
  },
  {
   "cell_type": "code",
   "execution_count": null,
   "id": "e728d642-60db-415b-8c91-3865750cb117",
   "metadata": {},
   "outputs": [],
   "source": []
  }
 ],
 "metadata": {
  "kernelspec": {
   "display_name": "Python 3 (ipykernel)",
   "language": "python",
   "name": "python3"
  },
  "language_info": {
   "codemirror_mode": {
    "name": "ipython",
    "version": 3
   },
   "file_extension": ".py",
   "mimetype": "text/x-python",
   "name": "python",
   "nbconvert_exporter": "python",
   "pygments_lexer": "ipython3",
   "version": "3.10.6"
  }
 },
 "nbformat": 4,
 "nbformat_minor": 5
}
